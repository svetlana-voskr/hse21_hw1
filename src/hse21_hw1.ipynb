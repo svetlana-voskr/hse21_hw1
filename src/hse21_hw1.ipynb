{
  "nbformat": 4,
  "nbformat_minor": 0,
  "metadata": {
    "colab": {
      "name": "hse21_hw1.ipynb",
      "provenance": [],
      "authorship_tag": "ABX9TyOMrfcH1J9e0zVW17fHTSH9",
      "include_colab_link": true
    },
    "kernelspec": {
      "name": "python3",
      "display_name": "Python 3"
    },
    "language_info": {
      "name": "python"
    }
  },
  "cells": [
    {
      "cell_type": "markdown",
      "metadata": {
        "id": "view-in-github",
        "colab_type": "text"
      },
      "source": [
        "<a href=\"https://colab.research.google.com/github/svetlana-voskr/hse21_hw1/blob/master/src/hse21_hw1.ipynb\" target=\"_parent\"><img src=\"https://colab.research.google.com/assets/colab-badge.svg\" alt=\"Open In Colab\"/></a>"
      ]
    },
    {
      "cell_type": "code",
      "metadata": {
        "id": "fDAZDxqODK2A",
        "colab": {
          "base_uri": "https://localhost:8080/"
        },
        "outputId": "f9fa1a29-6761-476f-9330-8b958b247a96"
      },
      "source": [
        "!git clone https://github.com/svetlana-voskr/hse21_hw1.git"
      ],
      "execution_count": null,
      "outputs": [
        {
          "output_type": "stream",
          "name": "stdout",
          "text": [
            "Cloning into 'hse21_hw1'...\n",
            "remote: Enumerating objects: 80, done.\u001b[K\n",
            "remote: Counting objects: 100% (80/80), done.\u001b[K\n",
            "remote: Compressing objects: 100% (65/65), done.\u001b[K\n",
            "remote: Total 80 (delta 28), reused 0 (delta 0), pack-reused 0\u001b[K\n",
            "Unpacking objects: 100% (80/80), done.\n"
          ]
        }
      ]
    },
    {
      "cell_type": "markdown",
      "metadata": {
        "id": "ywhRV7HfE1_2"
      },
      "source": [
        "Код для анализа полученных контигов:\n",
        "* общее количество контигов\n",
        "* их общая длина\n",
        "* длина самого длинного контига\n",
        "* N50"
      ]
    },
    {
      "cell_type": "code",
      "metadata": {
        "id": "FwiOrDCsDQT4",
        "colab": {
          "base_uri": "https://localhost:8080/"
        },
        "outputId": "815d79dd-c9ac-445d-ce7b-65d6c8bb7b46"
      },
      "source": [
        "def info(file):\n",
        "  lenghts = !grep '^>' $file | sed -E 's/^.*len([0-9]+).*$/\\1/'\n",
        "  nums = sorted((int(e) for e in lenghts), reverse=True)\n",
        "  total = sum(nums)\n",
        "\n",
        "  score = 0\n",
        "  for e in nums:\n",
        "    score += e\n",
        "    if score >= total/2:\n",
        "      N50 = e\n",
        "      break\n",
        "\n",
        "  print(f\"количество = {len(nums)}\")\n",
        "  print(f\"общая длина = {total}\")\n",
        "  print(f\"самый длинный = {nums[0]}\")\n",
        "  print(f\"N50 = {N50}\")\n",
        "\n",
        "info(\"hse21_hw1/data/out_contig.fa\")"
      ],
      "execution_count": null,
      "outputs": [
        {
          "output_type": "stream",
          "name": "stdout",
          "text": [
            "количество = 610\n",
            "общая длина = 3925436\n",
            "самый длинный = 179307\n",
            "N50 = 55039\n"
          ]
        }
      ]
    },
    {
      "cell_type": "code",
      "metadata": {
        "id": "kBHiBH5hDYCk",
        "colab": {
          "base_uri": "https://localhost:8080/"
        },
        "outputId": "839b6066-cce7-4580-9db9-092ba7240704"
      },
      "source": [
        "info(\"hse21_hw1/data/out_scaffold.fa\")"
      ],
      "execution_count": null,
      "outputs": [
        {
          "output_type": "stream",
          "name": "stdout",
          "text": [
            "количество = 73\n",
            "общая длина = 3876314\n",
            "самый длинный = 3832485\n",
            "N50 = 3832485\n"
          ]
        }
      ]
    },
    {
      "cell_type": "markdown",
      "metadata": {
        "id": "NxhnASN3E9jG"
      },
      "source": [
        "Для самого длинного скаффолда посчитать количество гэпов (участков, состоящих из букв NNNN) и их общую длину"
      ]
    },
    {
      "cell_type": "code",
      "metadata": {
        "id": "INaFkrR7DgzH",
        "colab": {
          "base_uri": "https://localhost:8080/"
        },
        "outputId": "feb6450e-b9c4-4444-8b31-e61c0d4e637a"
      },
      "source": [
        "def gaps(file):\n",
        "  num = !grep -Ec 'N+' $file\n",
        "  total = !grep -Eo 'N+' $file | tr -cd 'N' | wc -c\n",
        "  print(f\"количество = {num[0]}\")\n",
        "  print(f\"общая длина = {total[0]}\")\n",
        "\n",
        "gaps(\"hse21_hw1/data/longest.fa\")"
      ],
      "execution_count": null,
      "outputs": [
        {
          "output_type": "stream",
          "name": "stdout",
          "text": [
            "количество = 136\n",
            "общая длина = 6582\n"
          ]
        }
      ]
    },
    {
      "cell_type": "code",
      "metadata": {
        "colab": {
          "base_uri": "https://localhost:8080/"
        },
        "id": "KGMm_62jB-vq",
        "outputId": "4c8efd31-4788-45b8-84ad-27d41ab12861"
      },
      "source": [
        "gaps(\"hse21_hw1/data/longest_gap.fa\")"
      ],
      "execution_count": null,
      "outputs": [
        {
          "output_type": "stream",
          "name": "stdout",
          "text": [
            "количество = 30\n",
            "общая длина = 1679\n"
          ]
        }
      ]
    }
  ]
}